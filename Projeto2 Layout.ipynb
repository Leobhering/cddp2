{
 "cells": [
  {
   "cell_type": "markdown",
   "metadata": {},
   "source": [
    "___\n",
    "# Ciência dos Dados - PROJETO 2"
   ]
  },
  {
   "cell_type": "markdown",
   "metadata": {},
   "source": [
    "___\n",
    "## Leonardo Bhering Gonçalves\n",
    "\n",
    "## Felipe da Silva Pereira\n",
    "\n",
    "___"
   ]
  },
  {
   "cell_type": "markdown",
   "metadata": {},
   "source": [
    "___\n",
    "\n",
    "## 1. Problema\n",
    "\n",
    "O Classificador Naive-Bayes, o qual se baseia no uso do teorema de Bayes, é largamente utilizado em filtros anti-spam de e-mails. O classificador permite calcular qual a probabilidade de uma mensagem ser SPAM considerando as palavras em seu conteúdo e, de forma complementar, permite calcular a probabilidade de uma mensagem ser HAM dada as palavras descritas na mensagem.\n",
    "\n",
    "Para realizar o MVP (minimum viable product) do projeto, você precisa programar uma versão do classificador que \"aprende\" o que é uma mensagem SPAM considerando uma base de treinamento e comparar o desempenho dos resultados com uma base de testes. \n"
   ]
  },
  {
   "cell_type": "markdown",
   "metadata": {},
   "source": [
    "___\n",
    "## 2. Separação da base de dados em Treinamento e Teste\n",
    "\n",
    "A base de dados deve ser separada em duas partes, aleatoriamente, considerando: \n",
    "    \n",
    "    75% dos dados para a parte Treinamento; e\n",
    "    25% dos dados para a parte Teste."
   ]
  },
  {
   "cell_type": "code",
   "execution_count": 69,
   "metadata": {
    "collapsed": true
   },
   "outputs": [],
   "source": [
    "import pandas as pd\n",
    "import os\n",
    "import matplotlib.pyplot as plt\n",
    "import numpy as np\n",
    "from numpy import arange\n",
    "from sklearn.model_selection import train_test_split"
   ]
  },
  {
   "cell_type": "code",
   "execution_count": 70,
   "metadata": {},
   "outputs": [
    {
     "name": "stdout",
     "output_type": "stream",
     "text": [
      "Esperamos trabalhar no diretório\n",
      "C:\\Users\\Leonardo\\Documents\\INSPER\\CiDadosDP\\Projetos\\Projeto 2\n"
     ]
    }
   ],
   "source": [
    "print('Esperamos trabalhar no diretório')\n",
    "print(os.getcwd())"
   ]
  },
  {
   "cell_type": "code",
   "execution_count": 71,
   "metadata": {
    "collapsed": true
   },
   "outputs": [],
   "source": [
    "df = pd.read_excel('spamhamV2.xlsx')"
   ]
  },
  {
   "cell_type": "code",
   "execution_count": 72,
   "metadata": {},
   "outputs": [
    {
     "data": {
      "text/plain": [
       "Email    object\n",
       "Class    object\n",
       "dtype: object"
      ]
     },
     "execution_count": 72,
     "metadata": {},
     "output_type": "execute_result"
    }
   ],
   "source": [
    "df.dtypes"
   ]
  },
  {
   "cell_type": "code",
   "execution_count": 73,
   "metadata": {
    "collapsed": true
   },
   "outputs": [],
   "source": [
    "treinamento, teste = train_test_split(df)"
   ]
  },
  {
   "cell_type": "code",
   "execution_count": 74,
   "metadata": {},
   "outputs": [
    {
     "data": {
      "text/html": [
       "<div>\n",
       "<style>\n",
       "    .dataframe thead tr:only-child th {\n",
       "        text-align: right;\n",
       "    }\n",
       "\n",
       "    .dataframe thead th {\n",
       "        text-align: left;\n",
       "    }\n",
       "\n",
       "    .dataframe tbody tr th {\n",
       "        vertical-align: top;\n",
       "    }\n",
       "</style>\n",
       "<table border=\"1\" class=\"dataframe\">\n",
       "  <thead>\n",
       "    <tr style=\"text-align: right;\">\n",
       "      <th></th>\n",
       "      <th>Email</th>\n",
       "      <th>Class</th>\n",
       "    </tr>\n",
       "  </thead>\n",
       "  <tbody>\n",
       "    <tr>\n",
       "      <th>3013</th>\n",
       "      <td>I might go 2 sch. Yar at e salon now v boring.</td>\n",
       "      <td>ham</td>\n",
       "    </tr>\n",
       "    <tr>\n",
       "      <th>4394</th>\n",
       "      <td>Only just got this message, not ignoring you. ...</td>\n",
       "      <td>ham</td>\n",
       "    </tr>\n",
       "    <tr>\n",
       "      <th>829</th>\n",
       "      <td>Thanks for yesterday sir. You have been wonder...</td>\n",
       "      <td>ham</td>\n",
       "    </tr>\n",
       "    <tr>\n",
       "      <th>2123</th>\n",
       "      <td>Beautiful Truth against Gravity.. Read careful...</td>\n",
       "      <td>ham</td>\n",
       "    </tr>\n",
       "    <tr>\n",
       "      <th>2026</th>\n",
       "      <td>No got new job at bar in airport on satsgettin...</td>\n",
       "      <td>ham</td>\n",
       "    </tr>\n",
       "    <tr>\n",
       "      <th>4781</th>\n",
       "      <td>Call me, i am senthil from hsbc.</td>\n",
       "      <td>ham</td>\n",
       "    </tr>\n",
       "    <tr>\n",
       "      <th>2518</th>\n",
       "      <td>Ok. I only ask abt e movie. U wan ktv oso?</td>\n",
       "      <td>ham</td>\n",
       "    </tr>\n",
       "    <tr>\n",
       "      <th>3386</th>\n",
       "      <td>So u workin overtime nigpun?</td>\n",
       "      <td>ham</td>\n",
       "    </tr>\n",
       "    <tr>\n",
       "      <th>5447</th>\n",
       "      <td>So that takes away some money worries</td>\n",
       "      <td>ham</td>\n",
       "    </tr>\n",
       "    <tr>\n",
       "      <th>1049</th>\n",
       "      <td>18 days to Euro2004 kickoff! U will be kept in...</td>\n",
       "      <td>spam</td>\n",
       "    </tr>\n",
       "  </tbody>\n",
       "</table>\n",
       "</div>"
      ],
      "text/plain": [
       "                                                  Email Class\n",
       "3013     I might go 2 sch. Yar at e salon now v boring.   ham\n",
       "4394  Only just got this message, not ignoring you. ...   ham\n",
       "829   Thanks for yesterday sir. You have been wonder...   ham\n",
       "2123  Beautiful Truth against Gravity.. Read careful...   ham\n",
       "2026  No got new job at bar in airport on satsgettin...   ham\n",
       "4781                   Call me, i am senthil from hsbc.   ham\n",
       "2518         Ok. I only ask abt e movie. U wan ktv oso?   ham\n",
       "3386                       So u workin overtime nigpun?   ham\n",
       "5447              So that takes away some money worries   ham\n",
       "1049  18 days to Euro2004 kickoff! U will be kept in...  spam"
      ]
     },
     "execution_count": 74,
     "metadata": {},
     "output_type": "execute_result"
    }
   ],
   "source": [
    "treinamento.head(10)"
   ]
  },
  {
   "cell_type": "markdown",
   "metadata": {},
   "source": [
    "___\n",
    "## 3. Classificador Naive-Bayes"
   ]
  },
  {
   "cell_type": "code",
   "execution_count": 75,
   "metadata": {
    "scrolled": true
   },
   "outputs": [
    {
     "data": {
      "text/html": [
       "<div>\n",
       "<style>\n",
       "    .dataframe thead tr:only-child th {\n",
       "        text-align: right;\n",
       "    }\n",
       "\n",
       "    .dataframe thead th {\n",
       "        text-align: left;\n",
       "    }\n",
       "\n",
       "    .dataframe tbody tr th {\n",
       "        vertical-align: top;\n",
       "    }\n",
       "</style>\n",
       "<table border=\"1\" class=\"dataframe\">\n",
       "  <thead>\n",
       "    <tr style=\"text-align: right;\">\n",
       "      <th></th>\n",
       "      <th>Email</th>\n",
       "      <th>Class</th>\n",
       "    </tr>\n",
       "  </thead>\n",
       "  <tbody>\n",
       "    <tr>\n",
       "      <th>3013</th>\n",
       "      <td>I might go 2 sch. Yar at e salon now v boring.</td>\n",
       "      <td>ham</td>\n",
       "    </tr>\n",
       "    <tr>\n",
       "      <th>4394</th>\n",
       "      <td>Only just got this message not ignoring you. Y...</td>\n",
       "      <td>ham</td>\n",
       "    </tr>\n",
       "    <tr>\n",
       "      <th>829</th>\n",
       "      <td>Thanks for yesterday sir. You have been wonder...</td>\n",
       "      <td>ham</td>\n",
       "    </tr>\n",
       "    <tr>\n",
       "      <th>2123</th>\n",
       "      <td>Beautiful Truth against Gravity.. Read careful...</td>\n",
       "      <td>ham</td>\n",
       "    </tr>\n",
       "    <tr>\n",
       "      <th>2026</th>\n",
       "      <td>No got new job at bar in airport on satsgettin...</td>\n",
       "      <td>ham</td>\n",
       "    </tr>\n",
       "    <tr>\n",
       "      <th>4781</th>\n",
       "      <td>Call me i am senthil from hsbc.</td>\n",
       "      <td>ham</td>\n",
       "    </tr>\n",
       "    <tr>\n",
       "      <th>2518</th>\n",
       "      <td>Ok. I only ask abt e movie. U wan ktv oso?</td>\n",
       "      <td>ham</td>\n",
       "    </tr>\n",
       "    <tr>\n",
       "      <th>3386</th>\n",
       "      <td>So u workin overtime nigpun?</td>\n",
       "      <td>ham</td>\n",
       "    </tr>\n",
       "    <tr>\n",
       "      <th>5447</th>\n",
       "      <td>So that takes away some money worries</td>\n",
       "      <td>ham</td>\n",
       "    </tr>\n",
       "    <tr>\n",
       "      <th>1049</th>\n",
       "      <td>18 days to Euro2004 kickoff! U will be kept in...</td>\n",
       "      <td>spam</td>\n",
       "    </tr>\n",
       "  </tbody>\n",
       "</table>\n",
       "</div>"
      ],
      "text/plain": [
       "                                                  Email Class\n",
       "3013     I might go 2 sch. Yar at e salon now v boring.   ham\n",
       "4394  Only just got this message not ignoring you. Y...   ham\n",
       "829   Thanks for yesterday sir. You have been wonder...   ham\n",
       "2123  Beautiful Truth against Gravity.. Read careful...   ham\n",
       "2026  No got new job at bar in airport on satsgettin...   ham\n",
       "4781                    Call me i am senthil from hsbc.   ham\n",
       "2518         Ok. I only ask abt e movie. U wan ktv oso?   ham\n",
       "3386                       So u workin overtime nigpun?   ham\n",
       "5447              So that takes away some money worries   ham\n",
       "1049  18 days to Euro2004 kickoff! U will be kept in...  spam"
      ]
     },
     "execution_count": 75,
     "metadata": {},
     "output_type": "execute_result"
    }
   ],
   "source": [
    "treinamento=treinamento.replace({'@':''}, regex=True)\n",
    "treinamento=treinamento.replace({'()':''}, regex=True)\n",
    "treinamento=treinamento.replace({':':''}, regex=True)\n",
    "treinamento=treinamento.replace({'#':''}, regex=True)\n",
    "treinamento=treinamento.replace({';':''}, regex=True)\n",
    "treinamento=treinamento.replace({'':''}, regex=True)\n",
    "treinamento=treinamento.replace({',':''}, regex=True)\n",
    "treinamento=treinamento.replace({'\"':''}, regex=True)\n",
    "treinamento=treinamento.replace({'  ':''}, regex=True)\n",
    "treinamento.head(10)"
   ]
  },
  {
   "cell_type": "code",
   "execution_count": 92,
   "metadata": {
    "scrolled": true
   },
   "outputs": [
    {
     "name": "stdout",
     "output_type": "stream",
     "text": [
      "Probabilidade de uma mensagem ser SPAM: 0.13352476669059585\n"
     ]
    }
   ],
   "source": [
    "spam=treinamento[treinamento.Class=='spam']\n",
    "prob_spam=len(spam)/len(treinamento['Class'])\n",
    "print('Probabilidade de uma mensagem ser SPAM:', prob_spam)"
   ]
  },
  {
   "cell_type": "code",
   "execution_count": 94,
   "metadata": {},
   "outputs": [
    {
     "name": "stdout",
     "output_type": "stream",
     "text": [
      "Probabilidade de uma mensagem ser HAM: 0.8664752333094041\n"
     ]
    }
   ],
   "source": [
    "ham=treinamento[treinamento.Class=='ham']\n",
    "prob_ham=len(ham)/len(treinamento['Class'])\n",
    "print('Probabilidade de uma mensagem ser HAM:', prob_ham)"
   ]
  },
  {
   "cell_type": "code",
   "execution_count": 100,
   "metadata": {},
   "outputs": [],
   "source": [
    "# PROBABILIDADE TOTAL\n",
    "total=treinamento['Email'].sum(axis=None, skipna=None, level=None, numeric_only=None)\n",
    "n_emails=len(treinamento) #Numero de emails\n",
    "\n",
    "serie_email = pd.Series(total)\n",
    "email_vc = serie_email.value_counts()\n",
    "#Probabilidade total de cada palavra no dataframe\n",
    "prob_palavra=(email_vc+1)/(len(serie_email) + len(email_vc))\n",
    "\n"
   ]
  },
  {
   "cell_type": "code",
   "execution_count": 101,
   "metadata": {},
   "outputs": [
    {
     "name": "stdout",
     "output_type": "stream",
     "text": [
      "ham     0.8663\n",
      "spam    0.1337\n",
      "Name: Class, dtype: float64\n"
     ]
    }
   ],
   "source": [
    "serie_class = pd.Series(treinamento['Class'])\n",
    "class_vc = serie_class.value_counts()\n",
    "#Probabilidade total de relevancia no dataframe\n",
    "prob_relevancia=(class_vc+1)/(len(serie_class) + len(class_vc))\n",
    "print(prob_relevancia)"
   ]
  },
  {
   "cell_type": "code",
   "execution_count": 103,
   "metadata": {
    "collapsed": true
   },
   "outputs": [],
   "source": [
    "#FILTRANDO HAM\n",
    "treino_ham=treinamento[treinamento.Class=='ham']\n",
    "\n",
    "treino_ham=treino_ham['Email'].sum(axis=None, skipna=None, level=None, numeric_only=None)\n",
    "serie_ham = pd.Series(treino_ham)\n",
    "ham_vc = serie_ham.value_counts()\n",
    "#Probabilidade de cada palavra pertencer a um email HAM\n",
    "prob_ham=(ham_vc+1)/(len(serie_ham) + len(serie_email))"
   ]
  },
  {
   "cell_type": "code",
   "execution_count": 104,
   "metadata": {
    "collapsed": true
   },
   "outputs": [],
   "source": [
    "#FILTRANDO SPAM\n",
    "treino_spam=treinamento[treinamento.Class=='spam']\n",
    "\n",
    "treino_spam=treino_spam['Email'].sum(axis=None, skipna=None, level=None, numeric_only=None)\n",
    "serie_spam = pd.Series(treino_spam)\n",
    "spam_vc = serie_spam.value_counts()\n",
    "#Probabilidade de cada palavra pertencer a um email SPAM\n",
    "prob_spam=(spam_vc+1)/(len(serie_spam) + len(serie_email))"
   ]
  },
  {
   "cell_type": "markdown",
   "metadata": {},
   "source": [
    "___\n",
    "## 4. Curva ROC"
   ]
  },
  {
   "cell_type": "code",
   "execution_count": null,
   "metadata": {
    "collapsed": true
   },
   "outputs": [],
   "source": []
  },
  {
   "cell_type": "code",
   "execution_count": null,
   "metadata": {
    "collapsed": true
   },
   "outputs": [],
   "source": []
  },
  {
   "cell_type": "code",
   "execution_count": null,
   "metadata": {
    "collapsed": true
   },
   "outputs": [],
   "source": []
  },
  {
   "cell_type": "markdown",
   "metadata": {},
   "source": [
    "___\n",
    "## 5. Qualidade do Classificador alterando a base de treinamento"
   ]
  },
  {
   "cell_type": "code",
   "execution_count": null,
   "metadata": {
    "collapsed": true
   },
   "outputs": [],
   "source": []
  },
  {
   "cell_type": "code",
   "execution_count": null,
   "metadata": {
    "collapsed": true
   },
   "outputs": [],
   "source": []
  },
  {
   "cell_type": "code",
   "execution_count": null,
   "metadata": {
    "collapsed": true
   },
   "outputs": [],
   "source": []
  },
  {
   "cell_type": "code",
   "execution_count": null,
   "metadata": {
    "collapsed": true
   },
   "outputs": [],
   "source": []
  }
 ],
 "metadata": {
  "anaconda-cloud": {},
  "kernelspec": {
   "display_name": "Python 3",
   "language": "python",
   "name": "python3"
  },
  "language_info": {
   "codemirror_mode": {
    "name": "ipython",
    "version": 3
   },
   "file_extension": ".py",
   "mimetype": "text/x-python",
   "name": "python",
   "nbconvert_exporter": "python",
   "pygments_lexer": "ipython3",
   "version": "3.6.0"
  }
 },
 "nbformat": 4,
 "nbformat_minor": 1
}
