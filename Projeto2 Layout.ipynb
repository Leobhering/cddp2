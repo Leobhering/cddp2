{
 "cells": [
  {
   "cell_type": "markdown",
   "metadata": {},
   "source": [
    "___\n",
    "# Ciência dos Dados - PROJETO 2"
   ]
  },
  {
   "cell_type": "markdown",
   "metadata": {},
   "source": [
    "___\n",
    "## Leonardo Bhering Gonçalves\n",
    "\n",
    "## Felipe da Silva Pereira\n",
    "\n",
    "___"
   ]
  },
  {
   "cell_type": "markdown",
   "metadata": {},
   "source": [
    "___\n",
    "\n",
    "## 1. Problema\n",
    "\n",
    "O Classificador Naive-Bayes, o qual se baseia no uso do teorema de Bayes, é largamente utilizado em filtros anti-spam de e-mails. O classificador permite calcular qual a probabilidade de uma mensagem ser SPAM considerando as palavras em seu conteúdo e, de forma complementar, permite calcular a probabilidade de uma mensagem ser HAM dada as palavras descritas na mensagem.\n",
    "\n",
    "Para realizar o MVP (minimum viable product) do projeto, você precisa programar uma versão do classificador que \"aprende\" o que é uma mensagem SPAM considerando uma base de treinamento e comparar o desempenho dos resultados com uma base de testes. \n"
   ]
  },
  {
   "cell_type": "markdown",
   "metadata": {},
   "source": [
    "___\n",
    "## 2. Separação da base de dados em Treinamento e Teste\n",
    "\n",
    "A base de dados deve ser separada em duas partes, aleatoriamente, considerando: \n",
    "    \n",
    "    75% dos dados para a parte Treinamento; e\n",
    "    25% dos dados para a parte Teste."
   ]
  },
  {
   "cell_type": "code",
   "execution_count": 145,
   "metadata": {
    "collapsed": true
   },
   "outputs": [],
   "source": [
    "import pandas as pd\n",
    "import os\n",
    "import matplotlib.pyplot as plt\n",
    "import numpy as np\n",
    "from numpy import arange\n",
    "from sklearn.model_selection import train_test_split"
   ]
  },
  {
   "cell_type": "code",
   "execution_count": 146,
   "metadata": {},
   "outputs": [
    {
     "name": "stdout",
     "output_type": "stream",
     "text": [
      "Esperamos trabalhar no diretório\n",
      "C:\\Users\\eletr\\Google Drive\\Insper\\Ciência dos dados\\Kelly\\cddp2\n"
     ]
    }
   ],
   "source": [
    "print('Esperamos trabalhar no diretório')\n",
    "print(os.getcwd())"
   ]
  },
  {
   "cell_type": "code",
   "execution_count": 147,
   "metadata": {
    "collapsed": true
   },
   "outputs": [],
   "source": [
    "df = pd.read_excel('spamhamV2.xlsx')\n",
    "\n",
    "df['Email']=df.Email.str.replace(':','')\n",
    "df['Email']=df.Email.str.replace('\"','')\n",
    "df['Email']=df.Email.str.replace(\"'\",\"\")\n",
    "df['Email']=df.Email.str.replace('(','')\n",
    "df['Email']=df.Email.str.replace(')','')\n",
    "df['Email']=df.Email.str.replace('\\n','')\n",
    "df['Email']=df.Email.str.replace(',','')\n",
    "df['Email']=df.Email.str.replace('.','')\n",
    "df['Email']=df.Email.str.lower()"
   ]
  },
  {
   "cell_type": "code",
   "execution_count": 148,
   "metadata": {},
   "outputs": [
    {
     "data": {
      "text/plain": [
       "Email    object\n",
       "Class    object\n",
       "dtype: object"
      ]
     },
     "execution_count": 148,
     "metadata": {},
     "output_type": "execute_result"
    }
   ],
   "source": [
    "df.dtypes"
   ]
  },
  {
   "cell_type": "code",
   "execution_count": 149,
   "metadata": {
    "collapsed": true
   },
   "outputs": [],
   "source": [
    "treinamento, teste = train_test_split(df)"
   ]
  },
  {
   "cell_type": "code",
   "execution_count": 150,
   "metadata": {
    "collapsed": true
   },
   "outputs": [],
   "source": [
    "#De outro modo\n",
    "\n",
    "df['Email']=df.Email.str.replace(':','')\n",
    "df['Email']=df.Email.str.replace('\"','')\n",
    "df['Email']=df.Email.str.replace(\"'\",\"\")\n",
    "df['Email']=df.Email.str.replace('(','')\n",
    "df['Email']=df.Email.str.replace(')','')\n",
    "df['Email']=df.Email.str.replace('\\n','')\n",
    "df['Email']=df.Email.str.replace(',','')\n",
    "df['Email']=df.Email.str.replace('.','')\n",
    "df['Email']=df.Email.str.lower()"
   ]
  },
  {
   "cell_type": "code",
   "execution_count": 151,
   "metadata": {
    "collapsed": true
   },
   "outputs": [],
   "source": [
    "#Dividir cada email em palavras\n",
    "df['Email']=df['Email'].str.split(pat=None,n=-1,expand=False)"
   ]
  },
  {
   "cell_type": "code",
   "execution_count": 152,
   "metadata": {
    "collapsed": true
   },
   "outputs": [],
   "source": [
    "#Agora podemos separar em dois arquivos distintos, teste e treinamento\n",
    "basetreinamento, baseteste=df.sample(n=None, frac=0.75, replace=False, weights=None, random_state=None, axis=None), df.sample(n=None, frac=0.25, replace=False, weights=None, random_state=None, axis=None)\n",
    "\n",
    "\n",
    "#basetreinamento.to_csv('treinamento.csv')\n",
    "#baseteste.to_csv('teste.csv')"
   ]
  },
  {
   "cell_type": "code",
   "execution_count": 153,
   "metadata": {},
   "outputs": [],
   "source": [
    "treinamento=treinamento.replace({'@':''}, regex=True)\n",
    "treinamento=treinamento.replace({'()':''}, regex=True)\n",
    "treinamento=treinamento.replace({':':''}, regex=True)\n",
    "treinamento=treinamento.replace({'#':''}, regex=True)\n",
    "treinamento=treinamento.replace({';':''}, regex=True)\n",
    "treinamento=treinamento.replace({'':''}, regex=True)\n",
    "treinamento=treinamento.replace({',':''}, regex=True)\n",
    "treinamento=treinamento.replace({'\"':''}, regex=True)\n",
    "treinamento=treinamento.replace({'  ':''}, regex=True)"
   ]
  },
  {
   "cell_type": "code",
   "execution_count": null,
   "metadata": {},
   "outputs": [],
   "source": []
  },
  {
   "cell_type": "code",
   "execution_count": null,
   "metadata": {
    "collapsed": true
   },
   "outputs": [],
   "source": []
  },
  {
   "cell_type": "code",
   "execution_count": null,
   "metadata": {
    "collapsed": true
   },
   "outputs": [],
   "source": []
  },
  {
   "cell_type": "code",
   "execution_count": null,
   "metadata": {
    "collapsed": true
   },
   "outputs": [],
   "source": []
  },
  {
   "cell_type": "markdown",
   "metadata": {},
   "source": [
    "___\n",
    "## 3. Classificador Naive-Bayes"
   ]
  },
  {
   "cell_type": "code",
   "execution_count": 154,
   "metadata": {
    "scrolled": true
   },
   "outputs": [
    {
     "name": "stdout",
     "output_type": "stream",
     "text": [
      "Probabilidade de uma mensagem ser SPAM: 0.13711414213926776\n"
     ]
    }
   ],
   "source": [
    "spam=treinamento[treinamento.Class=='spam']\n",
    "prob_spam=len(spam)/len(treinamento['Class'])\n",
    "print('Probabilidade de uma mensagem ser SPAM:', prob_spam)"
   ]
  },
  {
   "cell_type": "code",
   "execution_count": 155,
   "metadata": {},
   "outputs": [
    {
     "name": "stdout",
     "output_type": "stream",
     "text": [
      "Probabilidade de uma mensagem ser HAM: 0.8628858578607322\n"
     ]
    }
   ],
   "source": [
    "ham=treinamento[treinamento.Class=='ham']\n",
    "prob_ham=len(ham)/len(treinamento['Class'])\n",
    "print('Probabilidade de uma mensagem ser HAM:', prob_ham)"
   ]
  },
  {
   "cell_type": "code",
   "execution_count": 156,
   "metadata": {
    "collapsed": true
   },
   "outputs": [],
   "source": [
    "#Frequência por palavra dentro do df treinamento\n",
    "total=treinamento['Email'].sum(axis=None, skipna=None, level=None, numeric_only=None)\n",
    "n_emails=len(treinamento) #Numero de emails\n",
    "serie_email = pd.Series(total)\n",
    "email_vc = serie_email.value_counts()\n",
    "#Probabilidade total de cada palavra no dataframe\n",
    "prob_palavra=(email_vc+1)/(len(serie_email) + len(email_vc))\n",
    "\n"
   ]
  },
  {
   "cell_type": "code",
   "execution_count": 157,
   "metadata": {},
   "outputs": [],
   "source": [
    "serie_class = pd.Series(treinamento['Class'])\n",
    "class_vc = serie_class.value_counts()\n",
    "#Probabilidade total de relevancia no dataframe\n",
    "prob_relevancia=(class_vc+1)/(len(serie_class) + len(class_vc))"
   ]
  },
  {
   "cell_type": "code",
   "execution_count": 158,
   "metadata": {},
   "outputs": [],
   "source": [
    "#FILTRANDO HAM\n",
    "treino_ham=treinamento[treinamento.Class=='ham']\n",
    "\n",
    "treino_ham=treino_ham['Email'].sum(axis=None, skipna=None, level=None, numeric_only=None)\n",
    "serie_ham = pd.Series(treino_ham)\n",
    "ham_vc = serie_ham.value_counts()\n",
    "#Probabilidade de cada palavra pertencer a um email HAM\n",
    "string_ham=(ham_vc+1)/(len(serie_ham) + len(serie_email))"
   ]
  },
  {
   "cell_type": "code",
   "execution_count": 159,
   "metadata": {},
   "outputs": [],
   "source": [
    "#FILTRANDO SPAM\n",
    "treino_spam=treinamento[treinamento.Class=='spam']\n",
    "\n",
    "treino_spam=treino_spam['Email'].sum(axis=None, skipna=None, level=None, numeric_only=None)\n",
    "serie_spam = pd.Series(treino_spam)\n",
    "spam_vc = serie_spam.value_counts()\n",
    "#Probabilidade de cada palavra pertencer a um email SPAM\n",
    "string_spam=(spam_vc+1)/(len(serie_spam) + len(serie_email))"
   ]
  },
  {
   "cell_type": "code",
   "execution_count": 170,
   "metadata": {},
   "outputs": [],
   "source": [
    "#Função de Naive-Bayes:\n",
    "\n",
    "def Bayes(Email):\n",
    "    vspam=prob_spam\n",
    "    vham=prob_ham\n",
    "    for x in Email:\n",
    "        if x in string_spam:\n",
    "            vspam*=string_spam[x]\n",
    "        else:\n",
    "            vspam*=1/(len(email_vc))\n",
    "    for x in Email:\n",
    "        if x in string_ham:\n",
    "            vham*=string_ham[x]\n",
    "        else:\n",
    "            vham*=1/(len(email_vc))\n",
    "            \n",
    "    if vspam > vham:\n",
    "        return(\"spam\")\n",
    "    elif vham>vspam:\n",
    "        return(\"ham\")\n",
    "            \n",
    "        "
   ]
  },
  {
   "cell_type": "code",
   "execution_count": 171,
   "metadata": {},
   "outputs": [],
   "source": [
    "#Validando a classificação obtida por Naive-Bayes - Execução do teste\n",
    "\n",
    "def valida(teste):\n",
    "    texto=teste.Email\n",
    "    return Bayes(texto)\n",
    "\n",
    "Teste1 = baseteste.apply(valida,axis=1)\n",
    "baseteste[\"Classificação\"] = Teste1"
   ]
  },
  {
   "cell_type": "code",
   "execution_count": 172,
   "metadata": {},
   "outputs": [
    {
     "data": {
      "text/plain": [
       "ham     1209\n",
       "spam     184\n",
       "Name: Class, dtype: int64"
      ]
     },
     "execution_count": 172,
     "metadata": {},
     "output_type": "execute_result"
    }
   ],
   "source": [
    "baseteste['Class'].value_counts()"
   ]
  },
  {
   "cell_type": "code",
   "execution_count": 173,
   "metadata": {},
   "outputs": [
    {
     "data": {
      "text/plain": [
       "ham    1393\n",
       "Name: Classificação, dtype: int64"
      ]
     },
     "execution_count": 173,
     "metadata": {},
     "output_type": "execute_result"
    }
   ],
   "source": [
    "baseteste['Classificação'].value_counts()"
   ]
  },
  {
   "cell_type": "code",
   "execution_count": 177,
   "metadata": {},
   "outputs": [
    {
     "name": "stdout",
     "output_type": "stream",
     "text": [
      "Probabilidade de um positivo verdadeiro:  negativo verdadeiro    86.791098\n",
      "Name: Corrigido, dtype: float64\n",
      "Probabilidade de um negativo verdadeiro:  Series([], Name: Corrigido, dtype: float64)\n",
      "Probabilidade de um positivo falso:  positivo falso    13.208902\n",
      "Name: Corrigido, dtype: float64\n",
      "Probabilidade de um negativo falso:  Series([], Name: Corrigido, dtype: float64)\n"
     ]
    }
   ],
   "source": [
    "baseteste.loc[(baseteste.Class == \"ham\") & (baseteste.Classificação == \"ham\"),\"Corrigido\"] = \"negativo verdadeiro\"\n",
    "baseteste.loc[(baseteste.Class == \"spam\") & (baseteste.Classificação == \"spam\"),\"Corrigido\"] = \"positivo verdadeiro\"\n",
    "baseteste.loc[(baseteste.Class == \"spam\") & (baseteste.Classificação == \"ham\"),\"Corrigido\"] = \"positivo falso\"\n",
    "baseteste.loc[(baseteste.Class == \"ham\") & (baseteste.Classificação == \"spam\"),\"Corrigido\"] = \"negativo falso\"\n",
    "\n",
    "Positivo_Verdadeiro = baseteste.Corrigido[baseteste.Corrigido == \"negativo verdadeiro\"].value_counts()\n",
    "Negativo_Verdadeiro = baseteste.Corrigido[baseteste.Corrigido == \"positivo verdadeiro\"].value_counts()\n",
    "Positivo_Falso = baseteste.Corrigido[baseteste.Corrigido == \"positivo falso\"].value_counts()\n",
    "Negativo_Falso = baseteste.Corrigido[baseteste.Corrigido == \"negativo falso\"].value_counts()\n",
    "\n",
    "Probabilidade_Positivo_Verdadeiro = (Positivo_Verdadeiro/len(baseteste)*100)\n",
    "print(\"Probabilidade de um positivo verdadeiro:  \" +str(Probabilidade_Positivo_Verdadeiro))\n",
    "Probabilidade_Negativo_Verdadeiro = (Negativo_Verdadeiro/len(baseteste)*100)\n",
    "print(\"Probabilidade de um negativo verdadeiro:  \" +str(Probabilidade_Negativo_Verdadeiro))\n",
    "Porbabilidade_Positivo_Falso = (Positivo_Falso/len(baseteste)*100)\n",
    "print(\"Probabilidade de um positivo falso:  \" +str(Porbabilidade_Positivo_Falso))\n",
    "Probabilidade_Negativo_Falso = (Negativo_Falso/len(baseteste)*100)\n",
    "print(\"Probabilidade de um negativo falso:  \" +str(Probabilidade_Negativo_Falso))"
   ]
  },
  {
   "cell_type": "code",
   "execution_count": null,
   "metadata": {
    "collapsed": true
   },
   "outputs": [],
   "source": [
    "\n",
    "\n",
    "\n"
   ]
  },
  {
   "cell_type": "markdown",
   "metadata": {},
   "source": [
    "___\n",
    "## 4. Curva ROC"
   ]
  },
  {
   "cell_type": "code",
   "execution_count": null,
   "metadata": {
    "collapsed": true
   },
   "outputs": [],
   "source": []
  },
  {
   "cell_type": "code",
   "execution_count": null,
   "metadata": {
    "collapsed": true
   },
   "outputs": [],
   "source": []
  },
  {
   "cell_type": "code",
   "execution_count": null,
   "metadata": {
    "collapsed": true
   },
   "outputs": [],
   "source": []
  },
  {
   "cell_type": "markdown",
   "metadata": {},
   "source": [
    "___\n",
    "## 5. Qualidade do Classificador alterando a base de treinamento"
   ]
  },
  {
   "cell_type": "code",
   "execution_count": null,
   "metadata": {
    "collapsed": true
   },
   "outputs": [],
   "source": []
  },
  {
   "cell_type": "code",
   "execution_count": null,
   "metadata": {
    "collapsed": true
   },
   "outputs": [],
   "source": []
  },
  {
   "cell_type": "code",
   "execution_count": null,
   "metadata": {
    "collapsed": true
   },
   "outputs": [],
   "source": []
  },
  {
   "cell_type": "code",
   "execution_count": null,
   "metadata": {
    "collapsed": true
   },
   "outputs": [],
   "source": []
  }
 ],
 "metadata": {
  "anaconda-cloud": {},
  "kernelspec": {
   "display_name": "Python 3",
   "language": "python",
   "name": "python3"
  },
  "language_info": {
   "codemirror_mode": {
    "name": "ipython",
    "version": 3
   },
   "file_extension": ".py",
   "mimetype": "text/x-python",
   "name": "python",
   "nbconvert_exporter": "python",
   "pygments_lexer": "ipython3",
   "version": "3.6.3"
  }
 },
 "nbformat": 4,
 "nbformat_minor": 1
}
